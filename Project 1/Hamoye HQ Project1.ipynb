{
 "cells": [
  {
   "cell_type": "code",
   "execution_count": 1,
   "id": "c6baf8d2",
   "metadata": {},
   "outputs": [],
   "source": [
    "# Import data wrangling and visualization Libraries\n",
    "import pandas as pd\n",
    "import seaborn as sns\n",
    "from matplotlib import pyplot as plt"
   ]
  },
  {
   "cell_type": "code",
   "execution_count": 2,
   "id": "da21b64f",
   "metadata": {},
   "outputs": [
    {
     "data": {
      "text/html": [
       "<div>\n",
       "<style scoped>\n",
       "    .dataframe tbody tr th:only-of-type {\n",
       "        vertical-align: middle;\n",
       "    }\n",
       "\n",
       "    .dataframe tbody tr th {\n",
       "        vertical-align: top;\n",
       "    }\n",
       "\n",
       "    .dataframe thead th {\n",
       "        text-align: right;\n",
       "    }\n",
       "</style>\n",
       "<table border=\"1\" class=\"dataframe\">\n",
       "  <thead>\n",
       "    <tr style=\"text-align: right;\">\n",
       "      <th></th>\n",
       "      <th>Area Code</th>\n",
       "      <th>Area</th>\n",
       "      <th>Item Code</th>\n",
       "      <th>Item</th>\n",
       "      <th>Element Code</th>\n",
       "      <th>Element</th>\n",
       "      <th>Unit</th>\n",
       "      <th>Y2014</th>\n",
       "      <th>Y2015</th>\n",
       "      <th>Y2016</th>\n",
       "      <th>Y2017</th>\n",
       "      <th>Y2018</th>\n",
       "    </tr>\n",
       "  </thead>\n",
       "  <tbody>\n",
       "    <tr>\n",
       "      <th>0</th>\n",
       "      <td>4</td>\n",
       "      <td>Algeria</td>\n",
       "      <td>2501</td>\n",
       "      <td>Population</td>\n",
       "      <td>511</td>\n",
       "      <td>Total Population - Both sexes</td>\n",
       "      <td>1000 persons</td>\n",
       "      <td>38924.00</td>\n",
       "      <td>39728.00</td>\n",
       "      <td>40551.00</td>\n",
       "      <td>41389.00</td>\n",
       "      <td>42228.00</td>\n",
       "    </tr>\n",
       "    <tr>\n",
       "      <th>1</th>\n",
       "      <td>4</td>\n",
       "      <td>Algeria</td>\n",
       "      <td>2501</td>\n",
       "      <td>Population</td>\n",
       "      <td>5301</td>\n",
       "      <td>Domestic supply quantity</td>\n",
       "      <td>1000 tonnes</td>\n",
       "      <td>0.00</td>\n",
       "      <td>0.00</td>\n",
       "      <td>0.00</td>\n",
       "      <td>0.00</td>\n",
       "      <td>0.00</td>\n",
       "    </tr>\n",
       "    <tr>\n",
       "      <th>2</th>\n",
       "      <td>4</td>\n",
       "      <td>Algeria</td>\n",
       "      <td>2901</td>\n",
       "      <td>Grand Total</td>\n",
       "      <td>664</td>\n",
       "      <td>Food supply (kcal/capita/day)</td>\n",
       "      <td>kcal/capita/day</td>\n",
       "      <td>3377.00</td>\n",
       "      <td>3379.00</td>\n",
       "      <td>3372.00</td>\n",
       "      <td>3341.00</td>\n",
       "      <td>3322.00</td>\n",
       "    </tr>\n",
       "    <tr>\n",
       "      <th>3</th>\n",
       "      <td>4</td>\n",
       "      <td>Algeria</td>\n",
       "      <td>2901</td>\n",
       "      <td>Grand Total</td>\n",
       "      <td>674</td>\n",
       "      <td>Protein supply quantity (g/capita/day)</td>\n",
       "      <td>g/capita/day</td>\n",
       "      <td>94.90</td>\n",
       "      <td>94.35</td>\n",
       "      <td>94.72</td>\n",
       "      <td>92.82</td>\n",
       "      <td>91.83</td>\n",
       "    </tr>\n",
       "    <tr>\n",
       "      <th>4</th>\n",
       "      <td>4</td>\n",
       "      <td>Algeria</td>\n",
       "      <td>2901</td>\n",
       "      <td>Grand Total</td>\n",
       "      <td>684</td>\n",
       "      <td>Fat supply quantity (g/capita/day)</td>\n",
       "      <td>g/capita/day</td>\n",
       "      <td>80.06</td>\n",
       "      <td>79.36</td>\n",
       "      <td>77.40</td>\n",
       "      <td>80.19</td>\n",
       "      <td>77.28</td>\n",
       "    </tr>\n",
       "  </tbody>\n",
       "</table>\n",
       "</div>"
      ],
      "text/plain": [
       "   Area Code     Area  Item Code         Item  Element Code  \\\n",
       "0          4  Algeria       2501   Population           511   \n",
       "1          4  Algeria       2501   Population          5301   \n",
       "2          4  Algeria       2901  Grand Total           664   \n",
       "3          4  Algeria       2901  Grand Total           674   \n",
       "4          4  Algeria       2901  Grand Total           684   \n",
       "\n",
       "                                  Element             Unit     Y2014  \\\n",
       "0           Total Population - Both sexes     1000 persons  38924.00   \n",
       "1                Domestic supply quantity      1000 tonnes      0.00   \n",
       "2           Food supply (kcal/capita/day)  kcal/capita/day   3377.00   \n",
       "3  Protein supply quantity (g/capita/day)     g/capita/day     94.90   \n",
       "4      Fat supply quantity (g/capita/day)     g/capita/day     80.06   \n",
       "\n",
       "      Y2015     Y2016     Y2017     Y2018  \n",
       "0  39728.00  40551.00  41389.00  42228.00  \n",
       "1      0.00      0.00      0.00      0.00  \n",
       "2   3379.00   3372.00   3341.00   3322.00  \n",
       "3     94.35     94.72     92.82     91.83  \n",
       "4     79.36     77.40     80.19     77.28  "
      ]
     },
     "execution_count": 2,
     "metadata": {},
     "output_type": "execute_result"
    }
   ],
   "source": [
    "df = pd.read_csv(\"data/FoodBalanceSheets_E_Africa_NOFLAG.csv\", encoding = 'latin1')\n",
    "df.head()"
   ]
  },
  {
   "cell_type": "markdown",
   "id": "49b9370c",
   "metadata": {},
   "source": [
    "## 1. What is the total sum of Animal Fat produced in 2014 and 2017 respectively?"
   ]
  },
  {
   "cell_type": "code",
   "execution_count": 3,
   "id": "a9faba2b",
   "metadata": {},
   "outputs": [
    {
     "data": {
      "text/plain": [
       "Y2014    209460.54\n",
       "Y2017    269617.53\n",
       "Name: Animal fats, dtype: float64"
      ]
     },
     "execution_count": 3,
     "metadata": {},
     "output_type": "execute_result"
    }
   ],
   "source": [
    "df.groupby(\"Item\").aggregate({\"Y2014\":\"sum\", \"Y2017\":\"sum\"}).loc[\"Animal fats\"]"
   ]
  },
  {
   "cell_type": "markdown",
   "id": "772a9b64",
   "metadata": {},
   "source": [
    "## 2. What is the mean and standard deviation across the whole dataset for the year 2015 to 3 decimal places?"
   ]
  },
  {
   "cell_type": "code",
   "execution_count": 4,
   "id": "5a1477ff",
   "metadata": {},
   "outputs": [
    {
     "data": {
      "text/plain": [
       "(135.236, 1603.404)"
      ]
     },
     "execution_count": 4,
     "metadata": {},
     "output_type": "execute_result"
    }
   ],
   "source": [
    "(round(df[\"Y2015\"].mean(), 3), round(df[\"Y2015\"].std(), 3))"
   ]
  },
  {
   "cell_type": "markdown",
   "id": "ca97b6c1",
   "metadata": {},
   "source": [
    "## 3. What is the total number and percentage of missing data in 2016 to 2 decimal places?"
   ]
  },
  {
   "cell_type": "code",
   "execution_count": 5,
   "id": "e7edeace",
   "metadata": {},
   "outputs": [
    {
     "data": {
      "text/plain": [
       "1535"
      ]
     },
     "execution_count": 5,
     "metadata": {},
     "output_type": "execute_result"
    }
   ],
   "source": [
    "df[\"Y2016\"].isna().sum()"
   ]
  },
  {
   "cell_type": "code",
   "execution_count": 6,
   "id": "d3e9b976",
   "metadata": {},
   "outputs": [
    {
     "data": {
      "text/plain": [
       "2.52"
      ]
     },
     "execution_count": 6,
     "metadata": {},
     "output_type": "execute_result"
    }
   ],
   "source": [
    "round (df[\"Y2016\"].isna().sum()/len(df) * 100, 2)"
   ]
  },
  {
   "cell_type": "markdown",
   "id": "da4c736f",
   "metadata": {},
   "source": [
    "## 4. Which year had the highest correlation with ‘Element Code’? "
   ]
  },
  {
   "cell_type": "code",
   "execution_count": 7,
   "id": "86889ca3",
   "metadata": {},
   "outputs": [
    {
     "data": {
      "text/plain": [
       "Element Code    1.000000\n",
       "Y2014           0.024457\n",
       "Y2018           0.024279\n",
       "Y2017           0.024254\n",
       "Y2015           0.023889\n",
       "Y2016           0.023444\n",
       "Area Code      -0.000209\n",
       "Item Code      -0.024683\n",
       "Name: Element Code, dtype: float64"
      ]
     },
     "execution_count": 7,
     "metadata": {},
     "output_type": "execute_result"
    }
   ],
   "source": [
    "df.corr()[\"Element Code\"].sort_values(ascending=False)"
   ]
  },
  {
   "cell_type": "markdown",
   "id": "a426b282",
   "metadata": {},
   "source": [
    "2014 has the highest correlation"
   ]
  },
  {
   "cell_type": "markdown",
   "id": "a9476c40",
   "metadata": {},
   "source": [
    "## 5. What year has the highest sum of Import Quantity?"
   ]
  },
  {
   "cell_type": "code",
   "execution_count": 8,
   "id": "3e7e44d6",
   "metadata": {},
   "outputs": [
    {
     "data": {
      "text/plain": [
       "Element Code    28834929.00\n",
       "Item Code       13795966.00\n",
       "Area Code         688174.00\n",
       "Y2017             294559.09\n",
       "Y2018             287997.09\n",
       "Y2016             286582.78\n",
       "Y2014             274144.48\n",
       "Y2015             267018.46\n",
       "Name: Import Quantity, dtype: float64"
      ]
     },
     "execution_count": 8,
     "metadata": {},
     "output_type": "execute_result"
    }
   ],
   "source": [
    "df.groupby(\"Element\").sum().loc[\"Import Quantity\"].sort_values(ascending=False)"
   ]
  },
  {
   "cell_type": "markdown",
   "id": "fbfdfa7a",
   "metadata": {},
   "source": [
    "2017 has the highest Import Quantity"
   ]
  },
  {
   "cell_type": "markdown",
   "id": "3f06f960",
   "metadata": {},
   "source": [
    "## 6. What is the total number of the sum of Production in 2014?"
   ]
  },
  {
   "cell_type": "code",
   "execution_count": 9,
   "id": "caa28646",
   "metadata": {},
   "outputs": [
    {
     "data": {
      "text/plain": [
       "274144.48"
      ]
     },
     "execution_count": 9,
     "metadata": {},
     "output_type": "execute_result"
    }
   ],
   "source": [
    "df.groupby(\"Element\")[\"Y2014\"].sum().loc[\"Import Quantity\"]"
   ]
  },
  {
   "cell_type": "markdown",
   "id": "2b898b0d",
   "metadata": {},
   "source": [
    "## 7. Which of these elements had the highest sum in 2018?"
   ]
  },
  {
   "cell_type": "code",
   "execution_count": 10,
   "id": "f6cae534",
   "metadata": {},
   "outputs": [
    {
     "data": {
      "text/plain": [
       "Element\n",
       "Domestic supply quantity                  2161192.10\n",
       "Production                                2075072.89\n",
       "Food                                      1303841.28\n",
       "Total Population - Both sexes             1140605.00\n",
       "Food supply (kcal/capita/day)              455261.00\n",
       "Processing                                 308429.00\n",
       "Import Quantity                            287997.09\n",
       "Feed                                       233489.68\n",
       "Export Quantity                            181594.80\n",
       "Losses                                     163902.00\n",
       "Other uses (non-food)                       91300.97\n",
       "Food supply quantity (kg/capita/yr)         49056.85\n",
       "Residuals                                   34864.00\n",
       "Seed                                        25263.14\n",
       "Stock Variation                             20577.91\n",
       "Protein supply quantity (g/capita/day)      11833.56\n",
       "Fat supply quantity (g/capita/day)          10258.69\n",
       "Tourist consumption                            90.00\n",
       "Name: Y2018, dtype: float64"
      ]
     },
     "execution_count": 10,
     "metadata": {},
     "output_type": "execute_result"
    }
   ],
   "source": [
    "new_df = df[[\"Element\", \"Y2018\"]]\n",
    "new_df.groupby(\"Element\")[\"Y2018\"].sum().sort_values(ascending=False)"
   ]
  },
  {
   "cell_type": "markdown",
   "id": "b61859bb",
   "metadata": {},
   "source": [
    "## 8. Which of these elements had the 3rd lowest sum in 2018?"
   ]
  },
  {
   "cell_type": "code",
   "execution_count": 11,
   "id": "2a282018",
   "metadata": {},
   "outputs": [
    {
     "data": {
      "text/plain": [
       "Element\n",
       "Protein supply quantity (g/capita/day)    11833.56\n",
       "Fat supply quantity (g/capita/day)        10258.69\n",
       "Tourist consumption                          90.00\n",
       "Name: Y2018, dtype: float64"
      ]
     },
     "execution_count": 11,
     "metadata": {},
     "output_type": "execute_result"
    }
   ],
   "source": [
    "new_df = df[[\"Element\", \"Y2018\"]]\n",
    "new_df.groupby(\"Element\")[\"Y2018\"].sum().sort_values(ascending=False).tail(3)"
   ]
  },
  {
   "cell_type": "markdown",
   "id": "c8f573d5",
   "metadata": {},
   "source": [
    "Protein has the 3rd lowest sum."
   ]
  },
  {
   "cell_type": "markdown",
   "id": "dc9c1f57",
   "metadata": {},
   "source": [
    "## 9 .What is the total Import Quantity in Algeria in 2018?"
   ]
  },
  {
   "cell_type": "code",
   "execution_count": 12,
   "id": "b416c215",
   "metadata": {},
   "outputs": [
    {
     "data": {
      "text/plain": [
       "36238.29"
      ]
     },
     "execution_count": 12,
     "metadata": {},
     "output_type": "execute_result"
    }
   ],
   "source": [
    "mask = df[\"Area\"] == \"Algeria\"\n",
    "new_df = df[mask]\n",
    "new_df.groupby(\"Element\")[\"Y2018\"].sum().loc[\"Import Quantity\"]"
   ]
  },
  {
   "cell_type": "markdown",
   "id": "3acd8cac",
   "metadata": {},
   "source": [
    "## 10. What is the total number of unique countries in the dataset?"
   ]
  },
  {
   "cell_type": "code",
   "execution_count": 13,
   "id": "ddc02283",
   "metadata": {},
   "outputs": [
    {
     "data": {
      "text/plain": [
       "49"
      ]
     },
     "execution_count": 13,
     "metadata": {},
     "output_type": "execute_result"
    }
   ],
   "source": [
    "df[\"Area\"].nunique()"
   ]
  },
  {
   "cell_type": "code",
   "execution_count": null,
   "id": "5d529c99",
   "metadata": {},
   "outputs": [],
   "source": []
  }
 ],
 "metadata": {
  "kernelspec": {
   "display_name": "Python 3 (ipykernel)",
   "language": "python",
   "name": "python3"
  },
  "language_info": {
   "codemirror_mode": {
    "name": "ipython",
    "version": 3
   },
   "file_extension": ".py",
   "mimetype": "text/x-python",
   "name": "python",
   "nbconvert_exporter": "python",
   "pygments_lexer": "ipython3",
   "version": "3.9.5"
  }
 },
 "nbformat": 4,
 "nbformat_minor": 5
}
